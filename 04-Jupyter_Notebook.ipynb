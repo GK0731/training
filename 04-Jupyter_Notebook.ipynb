{
 "cells": [
  {
   "cell_type": "markdown",
   "metadata": {},
   "source": [
    "Source: https://www.dataquest.io/blog/jupyter-notebook-tips-tricks-shortcuts/ "
   ]
  },
  {
   "cell_type": "markdown",
   "metadata": {},
   "source": [
    "Jupyter Cheat Sheet: https://www.cheatography.com/weidadeyue/cheat-sheets/jupyter-notebook/pdf_bw/"
   ]
  },
  {
   "cell_type": "markdown",
   "metadata": {},
   "source": [
    "### Check Available Environment"
   ]
  },
  {
   "cell_type": "markdown",
   "metadata": {},
   "source": [
    "```\n",
    "    /opt/miniconda/bin/conda info -e \n",
    "```"
   ]
  },
  {
   "cell_type": "markdown",
   "metadata": {},
   "source": [
    "### Open a Jupyter Notebook"
   ]
  },
  {
   "cell_type": "markdown",
   "metadata": {},
   "source": [
    "```bash\n",
    "\n",
    "cd /home/hdfsf10n/{username}/jupyter\n",
    "\n",
    "source /opt/miniconda/bin/activate {your_env_name}\n",
    "\n",
    "jupyter notebook --ip=`hostname -I` --port=8866 --no-browser\n",
    "```"
   ]
  },
  {
   "cell_type": "markdown",
   "metadata": {},
   "source": [
    "### be careful! it is __\\`hostname -I\\`__  not __'hostname -I'__"
   ]
  },
  {
   "cell_type": "markdown",
   "metadata": {},
   "source": [
    "### Check Python Path"
   ]
  },
  {
   "cell_type": "markdown",
   "metadata": {},
   "source": [
    "```python\n",
    "which python\n",
    "```"
   ]
  },
  {
   "cell_type": "markdown",
   "metadata": {},
   "source": [
    "### Install kernels into Jupyter"
   ]
  },
  {
   "cell_type": "markdown",
   "metadata": {},
   "source": [
    "```python\n",
    "python -m ipykernel install --user --name myenv --display-name \"Python (myenv)\"\n",
    "```"
   ]
  },
  {
   "cell_type": "markdown",
   "metadata": {},
   "source": [
    "### Write Code and run cell"
   ]
  },
  {
   "cell_type": "code",
   "execution_count": 14,
   "metadata": {},
   "outputs": [
    {
     "data": {
      "text/plain": [
       "110"
      ]
     },
     "execution_count": 14,
     "metadata": {},
     "output_type": "execute_result"
    }
   ],
   "source": [
    "a = 10; b=100\n",
    "a + b"
   ]
  },
  {
   "cell_type": "markdown",
   "metadata": {},
   "source": [
    "*__Please take care of variable scope__*"
   ]
  },
  {
   "cell_type": "markdown",
   "metadata": {},
   "source": [
    "### Function help"
   ]
  },
  {
   "cell_type": "code",
   "execution_count": 11,
   "metadata": {},
   "outputs": [],
   "source": [
    "import pandas as pd\n",
    "??pd.DataFrame.join"
   ]
  },
  {
   "cell_type": "markdown",
   "metadata": {},
   "source": [
    "### Change kernel"
   ]
  },
  {
   "cell_type": "markdown",
   "metadata": {},
   "source": [
    "<img src=\"img/change-kernel.png\" height=600 width=800>"
   ]
  },
  {
   "cell_type": "markdown",
   "metadata": {},
   "source": [
    "### Run external command"
   ]
  },
  {
   "cell_type": "code",
   "execution_count": 20,
   "metadata": {},
   "outputs": [
    {
     "name": "stdout",
     "output_type": "stream",
     "text": [
      " Volume in drive D is Files\n",
      " Volume Serial Number is 651C-17BD\n",
      "\n",
      " Directory of D:\\Projects\\training\n",
      "\n",
      "07/18/2018  11:13 PM    <DIR>          .\n",
      "07/18/2018  11:13 PM    <DIR>          ..\n",
      "07/18/2018  09:43 PM                35 .gitignore\n",
      "07/18/2018  09:47 PM    <DIR>          .ipynb_checkpoints\n",
      "07/18/2018  09:43 PM             4,285 00_Overall_Training_Plan.ipynb\n",
      "07/18/2018  09:43 PM            17,821 01-Unix_Shell_Command_Intro.ipynb\n",
      "06/19/2018  09:22 PM            23,200 02-Scala_Intro.ipynb\n",
      "06/19/2018  09:22 PM             6,901 03-01_Install_Spark_On_Windows_Intro.ipynb\n",
      "06/19/2018  09:22 PM            10,920 03-02_MapReduce_Intro.ipynb\n",
      "06/19/2018  09:22 PM            28,823 03-03_Spark_Intro.ipynb\n",
      "06/19/2018  09:22 PM             1,179 03-04_Spark_App_Build_Intro.ipynb\n",
      "07/18/2018  11:13 PM             3,630 04-Jupyter_Notebook.ipynb\n",
      "06/19/2018  10:37 PM    <DIR>          data\n",
      "07/18/2018  09:58 PM    <DIR>          img\n",
      "06/19/2018  09:22 PM               469 README.md\n",
      "06/19/2018  09:22 PM    <DIR>          text\n",
      "              10 File(s)         97,263 bytes\n",
      "               6 Dir(s)  223,102,218,240 bytes free\n"
     ]
    }
   ],
   "source": [
    "!dir"
   ]
  },
  {
   "cell_type": "code",
   "execution_count": 21,
   "metadata": {},
   "outputs": [
    {
     "name": "stdout",
     "output_type": "stream",
     "text": [
      "-rwxrwxrwx 1 pengtan pengtan  3630 Jul 18 23:13 04-Jupyter_Notebook.ipynb\n"
     ]
    }
   ],
   "source": [
    "%%bash\n",
    "\n",
    "ls -lrt |grep -i jupyter"
   ]
  },
  {
   "cell_type": "markdown",
   "metadata": {},
   "source": [
    "### Plot in jupyter"
   ]
  },
  {
   "cell_type": "code",
   "execution_count": 27,
   "metadata": {},
   "outputs": [
    {
     "data": {
      "image/png": "[encoded data removed]",
      "text/plain": [
       "<Figure size 432x288 with 1 Axes>"
      ]
     },
     "metadata": {},
     "output_type": "display_data"
    }
   ],
   "source": [
    "import matplotlib.pyplot as plt\n",
    "a = [1, 2, 3, 4, 5]\n",
    "b = [2, 5, 6, 7, 8]\n",
    "plt.plot(a, b)\n",
    "plt.show()"
   ]
  },
  {
   "cell_type": "markdown",
   "metadata": {},
   "source": [
    "### Check Env Variable\n"
   ]
  },
  {
   "cell_type": "code",
   "execution_count": null,
   "metadata": {},
   "outputs": [],
   "source": [
    "% env"
   ]
  }
 ],
 "metadata": {
  "kernelspec": {
   "display_name": "Python 2",
   "language": "python",
   "name": "python2"
  },
  "language_info": {
   "codemirror_mode": {
    "name": "ipython",
    "version": 2
   },
   "file_extension": ".py",
   "mimetype": "text/x-python",
   "name": "python",
   "nbconvert_exporter": "python",
   "pygments_lexer": "ipython2",
   "version": "2.7.14"
  }
 },
 "nbformat": 4,
 "nbformat_minor": 2
}
