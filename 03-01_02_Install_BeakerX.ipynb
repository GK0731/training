{
 "cells": [
  {
   "cell_type": "markdown",
   "metadata": {},
   "source": [
    "## [BeakerX](http://beakerx.com/)"
   ]
  },
  {
   "cell_type": "markdown",
   "metadata": {},
   "source": [
    "## create new conda enviroment and install BeakerX\n",
    "\n",
    "```\n",
    "conda create -y -n beakerx 'python>=3'\n",
    "source activate beakerx\n",
    "conda config --env --add pinned_packages 'openjdk>8.0.121'\n",
    "conda install -y -c conda-forge jupyterlab beakerx\n",
    "jupyter labextension install @jupyter-widgets/jupyterlab-manager\n",
    "jupyter labextension install beakerx-jupyterlab\n",
    "\n",
    "```"
   ]
  },
  {
   "cell_type": "markdown",
   "metadata": {},
   "source": [
    "## This will create an environment called beakerx"
   ]
  },
  {
   "cell_type": "markdown",
   "metadata": {},
   "source": [
    "## Open Jupyter Lab"
   ]
  },
  {
   "cell_type": "markdown",
   "metadata": {},
   "source": [
    "```\n",
    "source activate beakerx\n",
    "cd /home/hdfsf10n/{your_user_name}/jupyter\n",
    "jupyter lab\n",
    "\n",
    "```"
   ]
  },
  {
   "cell_type": "markdown",
   "metadata": {},
   "source": [
    "<img src=\"img/jupyter-lab.png\">"
   ]
  }
 ],
 "metadata": {
  "kernelspec": {
   "display_name": "Scala",
   "language": "scala",
   "name": "scala"
  },
  "language_info": {
   "name": ""
  }
 },
 "nbformat": 4,
 "nbformat_minor": 2
}
