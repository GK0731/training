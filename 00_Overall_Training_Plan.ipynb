{
 "cells": [
  {
   "cell_type": "markdown",
   "metadata": {},
   "source": [
    "# Overall Training Plan"
   ]
  },
  {
   "cell_type": "markdown",
   "metadata": {},
   "source": [
    "<img src=\"img/DS Flow and Tools.png\">"
   ]
  },
  {
   "cell_type": "markdown",
   "metadata": {},
   "source": [
    "# AD Training Plan"
   ]
  },
  {
   "cell_type": "markdown",
   "metadata": {},
   "source": [
    "### AD Background Training\n",
    "- What does AD do?\n",
    "- history and status of AD\n",
    "- different types of AD and future plan"
   ]
  },
  {
   "cell_type": "markdown",
   "metadata": {},
   "source": [
    "### Data Source Training\n",
    "#### Fab Terminology\n",
    "- Area and its function\n",
    "- Lot/wafer\n",
    "- Measurement\n",
    "\n",
    "#### Sigma Data\n",
    "- Sigma History demo\n",
    "- Sigma Run/Lot/Wafer/Measurement\n",
    "\n",
    "#### Space Data\n",
    "- space demo\n",
    "- sample_violation\n",
    "- sample_cal\n",
    "- t_channel_def\n"
   ]
  },
  {
   "cell_type": "markdown",
   "metadata": {},
   "source": [
    "### Software Training\n",
    "\n",
    "#### BitBucket/[Git](https://www.tutorialspoint.com/git/)\n",
    "__MAJOR TRAINER: Elaine Li__\n",
    "- Create repo\n",
    "- git pull/push/commit/clone\n",
    "- setup git in IDE\n",
    "\n",
    "#### [Anaconda](https://conda.io/docs/_downloads/conda-cheatsheet.pdf)\n",
    "__MAJOR TRAINER: Trung__\n",
    "- create env\n",
    "- install package\n",
    "- use env\n",
    "\n",
    "#### [Jupyter](https://www.cheatography.com/weidadeyue/cheat-sheets/jupyter-notebook/pdf_bw/) \n",
    "__MAJOR TRAINER: Trung__\n",
    "- create/open jupyter notebook\n",
    "- run cell\n",
    "- change kernel\n",
    "- change cell between code/markdown\n",
    "\n",
    "#### [HDFS](https://hadoop.apache.org/docs/r2.4.1/hadoop-project-dist/hadoop-common/FileSystemShell.html)\n",
    "__Self-learning__\n",
    "- file operation in hdfs (copy, list, download, delete)\n",
    "- permission check\n",
    "\n",
    "#### [HIVE](https://www.tutorialspoint.com/hive/hive_introduction.htm)\n",
    "__MAJOR TRAINER: Bernard__\n",
    "- create table with schema/partition\n",
    "- ingest data and add partition\n",
    "- select data from table and download\n",
    "- check table meta data\n",
    "- __Do not download too much data at one time. It will kill the cluster__\n",
    "\n",
    "#### [HBASE](https://learnhbase.wordpress.com/2013/03/02/hbase-shell-commands/)\n",
    "__MAJOR TRAINER: Bernard__\n",
    "- Basic understanding of HBASE (Rowkey, cell, timestamp, column family, column qualifier, value)\n",
    "- Open HBase shell\n",
    "- Get/scan data\n",
    "- Common filters used in HBase\n",
    "- Understand Sigma and Space HBase table\n",
    "\n",
    "#### [MSSQL](https://www.tutorialspoint.com/sql/)\n",
    "__Self-learning__\n",
    "- create table with schema\n",
    "- ingest data into mssql\n",
    "- select data from table and do the join\n",
    "\n",
    "#### [Spark](https://spark.apache.org/docs/2.1.1/quick-start.html)\n",
    "__MAJOR TRAINER: Tan Peng__\n",
    "- Query data from HIVE\n",
    "- Data Frame operation\n",
    "\n",
    "#### [Python]()\n",
    "__Self-learning__\n",
    "- Python basic\n",
    "- Pandas\n",
    "- matplotlib\n",
    "\n",
    "#### [Tableau]()\n",
    "__MAJOR TRAINER: YEE LEE HONG__\n",
    "- Create datasource\n",
    "- Create dashboard\n",
    "- publish dashboard\n",
    "\n",
    "#### [ActiveBatch]()\n",
    "__MAJOR TRAINER: Elaine Li__\n",
    "- create job\n",
    "- setup queue and schedule\n",
    "- permission\n",
    "- alert\n",
    "\n",
    "#### Nifi\n",
    "\n"
   ]
  }
 ],
 "metadata": {
  "kernelspec": {
   "display_name": "Python 3",
   "language": "python",
   "name": "python3"
  },
  "language_info": {
   "codemirror_mode": {
    "name": "ipython",
    "version": 3
   },
   "file_extension": ".py",
   "mimetype": "text/x-python",
   "name": "python",
   "nbconvert_exporter": "python",
   "pygments_lexer": "ipython3",
   "version": "3.6.6"
  }
 },
 "nbformat": 4,
 "nbformat_minor": 2
}
