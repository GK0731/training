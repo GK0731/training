{
 "cells": [
  {
   "cell_type": "markdown",
   "metadata": {},
   "source": [
    "## This Jupyter is to teach how to use Intellij and Maven to build a Scala App"
   ]
  },
  {
   "cell_type": "markdown",
   "metadata": {},
   "source": [
    "### Intellij Setup"
   ]
  },
  {
   "cell_type": "markdown",
   "metadata": {},
   "source": [
    "- setup scala plug-in"
   ]
  },
  {
   "cell_type": "markdown",
   "metadata": {},
   "source": [
    "1. In the intellij, choose __maven__ project\n",
    "\n",
    "<img src=\"img/intellij-create-new-maven-project.png\" width=\"600\" height=\"450\">\n",
    "\n",
    "2. Fill in groupId and artifactId\n",
    "\n",
    "<img src=\"img/intellij-name-groupid.png\" width=\"400\" height=\"300\">\n",
    "\n",
    "3. Choose your project location\n",
    "4. Under /project/src/main create a folder __scala__\n",
    "\n",
    "<img src=\"img/intellij-folders.png\" width=\"600\" height=\"450\">\n",
    "\n",
    "5. Modify ___pom.xml___ file and fill in required dependency\n",
    "\n"
   ]
  },
  {
   "cell_type": "markdown",
   "metadata": {},
   "source": [
    "<h3> Guide to naming conventions on groupId, artifactId and version </h3>\n",
    "\n",
    "> __groupId__ will identify your project uniquely across all projects, so we need to enforce a naming schema. It has to follow the package name rules, what means that has to be at least as a domain name you control, and you can create as many subgroups as you want. Look at More information about package names.\n",
    "eg. `org.apache.maven`, `org.apache.commons`\n",
    "\n",
    "> A good way to determine the granularity of the groupId is to use the project structure. That is, if the current project is a multiple module project, it should append a new identifier to the parent's groupId.\n",
    "\n",
    "> eg. org.apache.maven, org.apache.maven.plugins, org.apache.maven.reporting\n",
    "\n",
    "> __artifactId__ is the name of the jar without version. If you created it then you can choose whatever name you want with lowercase letters and no strange symbols. If it's a third party jar you have to take the name of the jar as it's distributed.\n",
    "eg. maven, commons-math\n",
    "\n",
    "> __version__ if you distribute it then you can choose any typical version with numbers and dots (1.0, 1.1, 1.0.1, ...). Don't use dates as they are usually associated with SNAPSHOT (nightly) builds. If it's a third party artifact, you have to use their version number whatever it is, and as strange as it can look.\n",
    "eg. 2.0, 2.0.1, 1.3.1"
   ]
  },
  {
   "cell_type": "markdown",
   "metadata": {},
   "source": [
    "### Maven Setup"
   ]
  },
  {
   "cell_type": "markdown",
   "metadata": {},
   "source": [
    "- Install Maven [Download](https://maven.apache.org/download.cgi)\n",
    "- Add __MAVEN_HOME__ in Path"
   ]
  },
  {
   "cell_type": "markdown",
   "metadata": {},
   "source": [
    "### Project Object Model (pom) file setup"
   ]
  },
  {
   "cell_type": "markdown",
   "metadata": {},
   "source": [
    "- sample pom file"
   ]
  },
  {
   "cell_type": "markdown",
   "metadata": {},
   "source": [
    "```\n",
    "<project xmlns=\"http://maven.apache.org/POM/4.0.0\" xmlns:xsi=\"http://www.w3.org/2001/XMLSchema-instance\" xsi:schemaLocation=\"http://maven.apache.org/POM/4.0.0 http://maven.apache.org/maven-v4_0_0.xsd\">\n",
    "  <modelVersion>4.0.0</modelVersion>\n",
    "  <groupId>com.micron.f10ds</groupId>\n",
    "  <artifactId>sigma-hbase-reader</artifactId>\n",
    "  <version>1.0-SNAPSHOT</version>\n",
    "  <name>${project.artifactId}</name>\n",
    "  <description>The reader for Sigma HBase</description>\n",
    "  <inceptionYear>2018</inceptionYear>\n",
    "  <licenses>\n",
    "    <license>\n",
    "      <name>My License</name>\n",
    "      <url>http://....</url>\n",
    "      <distribution>repo</distribution>\n",
    "    </license>\n",
    "  </licenses>\n",
    "\n",
    "  <properties>\n",
    "    <maven.compiler.source>1.8</maven.compiler.source>\n",
    "    <maven.compiler.target>1.8</maven.compiler.target>\n",
    "    <encoding>UTF-8</encoding>\n",
    "    <scala.version>2.11.8</scala.version>\n",
    "    <scala.compat.version>2.11</scala.compat.version>\n",
    "    <spark.version>2.1.1</spark.version>\n",
    "    <spec2.version>4.2.0</spec2.version>\n",
    "  </properties>\n",
    "\n",
    "  <dependencies>\n",
    "    <dependency>\n",
    "      <groupId>org.scala-lang</groupId>\n",
    "      <artifactId>scala-library</artifactId>\n",
    "      <version>${scala.version}</version>\n",
    "    </dependency>\n",
    "      <dependency>\n",
    "          <groupId>org.apache.spark</groupId>\n",
    "          <artifactId>spark-core_${scala.compat.version}</artifactId>\n",
    "          <version>${spark.version}</version>\n",
    "      </dependency>\n",
    "      <dependency>\n",
    "          <groupId>org.apache.spark</groupId>\n",
    "          <artifactId>spark-sql_${scala.compat.version}</artifactId>\n",
    "          <version>${spark.version}</version>\n",
    "      </dependency>\n",
    "    <!-- Test -->\n",
    "    <dependency>\n",
    "      <groupId>junit</groupId>\n",
    "      <artifactId>junit</artifactId>\n",
    "      <version>4.12</version>\n",
    "      <scope>test</scope>\n",
    "    </dependency>\n",
    "    <dependency>\n",
    "      <groupId>org.specs2</groupId>\n",
    "      <artifactId>specs2-core_${scala.compat.version}</artifactId>\n",
    "      <version>${spec2.version}</version>\n",
    "      <scope>test</scope>\n",
    "    </dependency>\n",
    "    <dependency>\n",
    "      <groupId>org.specs2</groupId>\n",
    "      <artifactId>specs2-junit_${scala.compat.version}</artifactId>\n",
    "      <version>${spec2.version}</version>\n",
    "      <scope>test</scope>\n",
    "    </dependency>\n",
    "  </dependencies>\n",
    "\n",
    "  <build>\n",
    "    <sourceDirectory>src/main/scala</sourceDirectory>\n",
    "    <testSourceDirectory>src/test/scala</testSourceDirectory>\n",
    "    <plugins>\n",
    "      <plugin>\n",
    "        <!-- see http://davidb.github.com/scala-maven-plugin -->\n",
    "        <groupId>net.alchim31.maven</groupId>\n",
    "        <artifactId>scala-maven-plugin</artifactId>\n",
    "        <version>3.3.2</version>\n",
    "        <executions>\n",
    "          <execution>\n",
    "            <goals>\n",
    "              <goal>compile</goal>\n",
    "            </goals>\n",
    "            <configuration>\n",
    "              <args>\n",
    "                <!--<arg>-dependencyfile</arg>-->\n",
    "                <!--<arg>${project.build.directory}/.scala_dependencies</arg>-->\n",
    "              </args>\n",
    "            </configuration>\n",
    "          </execution>\n",
    "        </executions>\n",
    "      </plugin>\n",
    "    </plugins>\n",
    "  </build>\n",
    "</project>\n",
    "```"
   ]
  },
  {
   "cell_type": "markdown",
   "metadata": {},
   "source": [
    "### Create jar"
   ]
  },
  {
   "cell_type": "markdown",
   "metadata": {},
   "source": [
    "```bash\n",
    "cd {your_project_folder}\n",
    "mvn clean install\n",
    "```"
   ]
  },
  {
   "cell_type": "markdown",
   "metadata": {},
   "source": [
    "### Submit jar in spark-submit"
   ]
  },
  {
   "cell_type": "markdown",
   "metadata": {},
   "source": [
    "```bash\n",
    "./bin/spark-submit \\\n",
    "  --master <master-url> \\\n",
    "  --deploy-mode <deploy-mode> \\\n",
    "  --conf <key>=<value> \\\n",
    "  ... # other options\n",
    "  <application-jar> \\\n",
    "  [application-arguments]\n",
    "\n",
    "\n",
    "```"
   ]
  },
  {
   "cell_type": "markdown",
   "metadata": {},
   "source": [
    "```bash\n",
    "./bin/spark-submit --class org.apache.spark.examples.SparkPi \\\n",
    "    --master yarn \\\n",
    "    --deploy-mode yarn \\\n",
    "    --driver-memory 4g \\\n",
    "    --executor-memory 2g \\\n",
    "    --executor-cores 1 \\\n",
    "    --queue eng_f10w-01 \\\n",
    "    examples/jars/spark-examples*.jar \\\n",
    "    10\n",
    "\n",
    "```"
   ]
  }
 ],
 "metadata": {
  "kernelspec": {
   "display_name": "Python 3",
   "language": "python",
   "name": "python3"
  },
  "language_info": {
   "codemirror_mode": {
    "name": "ipython",
    "version": 3
   },
   "file_extension": ".py",
   "mimetype": "text/x-python",
   "name": "python",
   "nbconvert_exporter": "python",
   "pygments_lexer": "ipython3",
   "version": "3.6.6"
  }
 },
 "nbformat": 4,
 "nbformat_minor": 2
}
