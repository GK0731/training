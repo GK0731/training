{
 "cells": [
  {
   "cell_type": "markdown",
   "metadata": {},
   "source": [
    "## Common Unix Shell Command"
   ]
  },
  {
   "cell_type": "markdown",
   "metadata": {},
   "source": [
    "\\* Source: https://learncodethehardway.org/unix/bash_cheat_sheet.pdf"
   ]
  },
  {
   "cell_type": "markdown",
   "metadata": {},
   "source": [
    "### Login into server"
   ]
  },
  {
   "cell_type": "markdown",
   "metadata": {},
   "source": [
    "We normaly use [MobaXterm](https://download.mobatek.net/1062018041114250/MobaXterm_Installer_v10.6.zip) or [Putty](https://the.earth.li/~sgtatham/putty/latest/w64/putty-64bit-0.70-installer.msi)/[MPutty](http://ttyplus.com/download/mtputty.zip) to login into the server"
   ]
  },
  {
   "cell_type": "markdown",
   "metadata": {},
   "source": [
    "### Look for help"
   ]
  },
  {
   "cell_type": "markdown",
   "metadata": {},
   "source": [
    "- ls --help\n",
    "\n",
    "- man ls\n",
    "\n",
    "- __Google__ the cmd "
   ]
  },
  {
   "cell_type": "markdown",
   "metadata": {},
   "source": [
    "### Hostname"
   ]
  },
  {
   "cell_type": "code",
   "execution_count": 27,
   "metadata": {},
   "outputs": [
    {
     "name": "stdout",
     "output_type": "stream",
     "text": [
      "192.168.1.83 \n",
      "XPS15\n"
     ]
    }
   ],
   "source": [
    "%%bash\n",
    "hostname -I\n",
    "hostname"
   ]
  },
  {
   "cell_type": "markdown",
   "metadata": {},
   "source": [
    "### Check account"
   ]
  },
  {
   "cell_type": "code",
   "execution_count": 19,
   "metadata": {},
   "outputs": [
    {
     "name": "stdout",
     "output_type": "stream",
     "text": [
      "pengtan\n"
     ]
    }
   ],
   "source": [
    "%%bash\n",
    "whoami"
   ]
  },
  {
   "cell_type": "markdown",
   "metadata": {},
   "source": [
    "### Check date and time (mainly for timezone checkup)"
   ]
  },
  {
   "cell_type": "code",
   "execution_count": null,
   "metadata": {},
   "outputs": [],
   "source": [
    "%%bash\n",
    "\n",
    "date \"+%Y-%m-%d %H:%M:%S\"\n",
    "\n",
    "TZ='UTC' date \"+%Y-%m-%d %H:%M:%S\""
   ]
  },
  {
   "cell_type": "markdown",
   "metadata": {},
   "source": [
    "### Change the user (Switch user, su)"
   ]
  },
  {
   "cell_type": "code",
   "execution_count": null,
   "metadata": {},
   "outputs": [],
   "source": [
    "%%bash\n",
    "su pengtan"
   ]
  },
  {
   "cell_type": "markdown",
   "metadata": {},
   "source": [
    "### Run command with sudo"
   ]
  },
  {
   "cell_type": "code",
   "execution_count": 2,
   "metadata": {},
   "outputs": [],
   "source": [
    "%%bash\n",
    "sudo chmod +x text/sample_long_text.txt"
   ]
  },
  {
   "cell_type": "markdown",
   "metadata": {},
   "source": [
    "### Check current path"
   ]
  },
  {
   "cell_type": "code",
   "execution_count": 20,
   "metadata": {},
   "outputs": [
    {
     "name": "stdout",
     "output_type": "stream",
     "text": [
      "/home/pengtan/jupyter\n"
     ]
    }
   ],
   "source": [
    "%%bash\n",
    "pwd"
   ]
  },
  {
   "cell_type": "markdown",
   "metadata": {},
   "source": [
    "### Folder Structure"
   ]
  },
  {
   "cell_type": "markdown",
   "metadata": {},
   "source": [
    "<img src=\"img/linux-directory-structure.jpg\" width=\"300\" height=\"600\">"
   ]
  },
  {
   "cell_type": "markdown",
   "metadata": {},
   "source": [
    "### Check current file and folder"
   ]
  },
  {
   "cell_type": "code",
   "execution_count": 21,
   "metadata": {},
   "outputs": [
    {
     "name": "stdout",
     "output_type": "stream",
     "text": [
      "total 12\n",
      "drwxrwxrwx 1 pengtan pengtan 4096 Jun 16 20:33 spark-warehouse\n",
      "-rw-rw-rw- 1 pengtan pengtan 2849 Jun 16 20:47 Scala-Intro-01.ipynb\n",
      "drwxrwxrwx 1 pengtan pengtan 4096 Jun 16 21:42 img\n",
      "drwxrwxrwx 1 pengtan pengtan 4096 Jun 16 23:27 data\n",
      "-rw-rw-rw- 1 pengtan pengtan 7356 Jun 16 23:28 Unix-Intro-01.ipynb\n"
     ]
    }
   ],
   "source": [
    "%%bash\n",
    "ls -lrt"
   ]
  },
  {
   "cell_type": "markdown",
   "metadata": {},
   "source": [
    "#### permission system"
   ]
  },
  {
   "cell_type": "markdown",
   "metadata": {},
   "source": [
    "<img src=\"img/permission.jpg\" width=\"500\" height=\"500\" />"
   ]
  },
  {
   "cell_type": "markdown",
   "metadata": {},
   "source": [
    "### Path Operation"
   ]
  },
  {
   "cell_type": "code",
   "execution_count": 22,
   "metadata": {},
   "outputs": [
    {
     "name": "stdout",
     "output_type": "stream",
     "text": [
      "/home/pengtan/jupyter\n",
      "/home/pengtan/jupyter/img\n",
      "/home/pengtan/jupyter\n"
     ]
    }
   ],
   "source": [
    "%%bash\n",
    "cd ~/jupyter/\n",
    "pwd\n",
    "cd img\n",
    "pwd\n",
    "cd ..\n",
    "pwd"
   ]
  },
  {
   "cell_type": "markdown",
   "metadata": {},
   "source": [
    "### File/Dir Operation"
   ]
  },
  {
   "cell_type": "markdown",
   "metadata": {},
   "source": [
    "#### Copy"
   ]
  },
  {
   "cell_type": "code",
   "execution_count": 11,
   "metadata": {},
   "outputs": [
    {
     "name": "stdout",
     "output_type": "stream",
     "text": [
      "total 224\n",
      "-rw-rw-rw- 1 pengtan pengtan 112129 Jun 16 21:07 sample-data.txt\n",
      "-rw-rw-rw- 1 pengtan pengtan 112129 Jun 16 23:22 sample-data-2.txt\n"
     ]
    }
   ],
   "source": [
    "%%bash\n",
    "cp data/sample-data.txt data/sample-data-2.txt\n",
    "ls -lrt data/"
   ]
  },
  {
   "cell_type": "markdown",
   "metadata": {},
   "source": [
    "#### Remove"
   ]
  },
  {
   "cell_type": "code",
   "execution_count": 12,
   "metadata": {},
   "outputs": [
    {
     "name": "stdout",
     "output_type": "stream",
     "text": [
      "total 112\n",
      "-rw-rw-rw- 1 pengtan pengtan 112129 Jun 16 21:07 sample-data.txt\n"
     ]
    }
   ],
   "source": [
    "%%bash\n",
    "rm data/sample-data-2.txt\n",
    "ls -lrt data/"
   ]
  },
  {
   "cell_type": "markdown",
   "metadata": {},
   "source": [
    "#### Move/Rename"
   ]
  },
  {
   "cell_type": "code",
   "execution_count": 15,
   "metadata": {},
   "outputs": [
    {
     "name": "stdout",
     "output_type": "stream",
     "text": [
      "total 336\n",
      "-rw-rw-rw- 1 pengtan pengtan 112129 Jun 16 21:07 sample-data.txt\n",
      "-rw-rw-rw- 1 pengtan pengtan 112129 Jun 16 23:25 sample-data-renamed.txt\n",
      "-rw-rw-rw- 1 pengtan pengtan 112129 Jun 16 23:27 sample-data-2.txt\n",
      "total 224\n",
      "-rw-rw-rw- 1 pengtan pengtan 112129 Jun 16 21:07 sample-data.txt\n",
      "-rw-rw-rw- 1 pengtan pengtan 112129 Jun 16 23:27 sample-data-renamed.txt\n"
     ]
    }
   ],
   "source": [
    "%%bash\n",
    "cp data/sample-data.txt data/sample-data-2.txt\n",
    "ls -lrt data/\n",
    "mv data/sample-data-2.txt data/sample-data-renamed.txt\n",
    "ls -lrt data/"
   ]
  },
  {
   "cell_type": "markdown",
   "metadata": {},
   "source": [
    "#### Change the permission"
   ]
  },
  {
   "cell_type": "code",
   "execution_count": 43,
   "metadata": {},
   "outputs": [],
   "source": [
    "%%bash\n",
    "chmod +w data/sample-data.txt"
   ]
  },
  {
   "cell_type": "markdown",
   "metadata": {},
   "source": [
    "#### Change the ownership"
   ]
  },
  {
   "cell_type": "code",
   "execution_count": 44,
   "metadata": {},
   "outputs": [],
   "source": [
    "%%bash\n",
    "chown pengtan:pengtan data/sample-data.txt"
   ]
  },
  {
   "cell_type": "markdown",
   "metadata": {},
   "source": [
    "### Make a new directory"
   ]
  },
  {
   "cell_type": "code",
   "execution_count": 25,
   "metadata": {},
   "outputs": [
    {
     "name": "stdout",
     "output_type": "stream",
     "text": [
      "total 12\n",
      "drwxrwxrwx 1 pengtan pengtan 4096 Jun 16 20:33 spark-warehouse\n",
      "-rw-rw-rw- 1 pengtan pengtan 2849 Jun 16 20:47 Scala-Intro-01.ipynb\n",
      "drwxrwxrwx 1 pengtan pengtan 4096 Jun 16 21:42 img\n",
      "drwxrwxrwx 1 pengtan pengtan 4096 Jun 16 23:27 data\n",
      "-rw-rw-rw- 1 pengtan pengtan 7833 Jun 16 23:32 Unix-Intro-01.ipynb\n",
      "drwxrwxrwx 1 pengtan pengtan 4096 Jun 16 23:33 data_tmp\n"
     ]
    }
   ],
   "source": [
    "%%bash\n",
    "mkdir data_tmp\n",
    "ls -lrt "
   ]
  },
  {
   "cell_type": "markdown",
   "metadata": {},
   "source": [
    "### Delete a new directory"
   ]
  },
  {
   "cell_type": "code",
   "execution_count": 26,
   "metadata": {},
   "outputs": [
    {
     "name": "stdout",
     "output_type": "stream",
     "text": [
      "total 12\n",
      "drwxrwxrwx 1 pengtan pengtan 4096 Jun 16 20:33 spark-warehouse\n",
      "-rw-rw-rw- 1 pengtan pengtan 2849 Jun 16 20:47 Scala-Intro-01.ipynb\n",
      "drwxrwxrwx 1 pengtan pengtan 4096 Jun 16 21:42 img\n",
      "drwxrwxrwx 1 pengtan pengtan 4096 Jun 16 23:27 data\n",
      "-rw-rw-rw- 1 pengtan pengtan 7833 Jun 16 23:32 Unix-Intro-01.ipynb\n"
     ]
    }
   ],
   "source": [
    "%%bash\n",
    "rm -r data_tmp/\n",
    "ls -lrt "
   ]
  },
  {
   "cell_type": "markdown",
   "metadata": {},
   "source": [
    "### Create a link (similar to windows shortcut)"
   ]
  },
  {
   "cell_type": "code",
   "execution_count": 2,
   "metadata": {},
   "outputs": [],
   "source": [
    "%%bash\n",
    "\n",
    "ln -s /data data"
   ]
  },
  {
   "cell_type": "markdown",
   "metadata": {},
   "source": [
    "### Check Dir Size"
   ]
  },
  {
   "cell_type": "code",
   "execution_count": 59,
   "metadata": {},
   "outputs": [
    {
     "name": "stdout",
     "output_type": "stream",
     "text": [
      "0\t./spark-warehouse\n",
      "4.0K\t./text\n",
      "16K\t./.ipynb_checkpoints\n",
      "112K\t./data\n",
      "116K\t./img\n",
      "264K\t./\n"
     ]
    }
   ],
   "source": [
    "%%bash\n",
    "du -hl --max-depth=1 ./ | sort -h"
   ]
  },
  {
   "cell_type": "markdown",
   "metadata": {},
   "source": [
    "### Find files size greater than x"
   ]
  },
  {
   "cell_type": "code",
   "execution_count": 3,
   "metadata": {},
   "outputs": [],
   "source": [
    "%%bash\n",
    "\n",
    "find . -type f -size +100M"
   ]
  },
  {
   "cell_type": "markdown",
   "metadata": {},
   "source": [
    "### Text Editting"
   ]
  },
  {
   "cell_type": "markdown",
   "metadata": {},
   "source": [
    "#### Edit"
   ]
  },
  {
   "cell_type": "code",
   "execution_count": 36,
   "metadata": {},
   "outputs": [],
   "source": [
    "%%bash\n",
    "echo \"first line\" > text/sample_text.txt\n",
    "echo \"second line\" >> text/sample_text.txt\n",
    "echo \"last line\" >> text/sample_text.txt"
   ]
  },
  {
   "cell_type": "markdown",
   "metadata": {},
   "source": [
    "\\* You can use vi/nano to edit the file directly also. "
   ]
  },
  {
   "cell_type": "markdown",
   "metadata": {},
   "source": [
    "#### View"
   ]
  },
  {
   "cell_type": "code",
   "execution_count": 37,
   "metadata": {},
   "outputs": [
    {
     "name": "stdout",
     "output_type": "stream",
     "text": [
      "first line\n",
      "second line\n",
      "last line\n"
     ]
    }
   ],
   "source": [
    "%%bash\n",
    "less text/sample_text.txt"
   ]
  },
  {
   "cell_type": "code",
   "execution_count": 38,
   "metadata": {},
   "outputs": [
    {
     "name": "stdout",
     "output_type": "stream",
     "text": [
      "first line\n"
     ]
    }
   ],
   "source": [
    "%%bash\n",
    "head -1 text/sample_text.txt"
   ]
  },
  {
   "cell_type": "code",
   "execution_count": 39,
   "metadata": {},
   "outputs": [
    {
     "name": "stdout",
     "output_type": "stream",
     "text": [
      "second line\n",
      "last line\n"
     ]
    }
   ],
   "source": [
    "%%bash\n",
    "tail -2 text/sample_text.txt"
   ]
  },
  {
   "cell_type": "markdown",
   "metadata": {},
   "source": [
    "#### Line count"
   ]
  },
  {
   "cell_type": "code",
   "execution_count": 47,
   "metadata": {},
   "outputs": [
    {
     "name": "stdout",
     "output_type": "stream",
     "text": [
      "3\n"
     ]
    }
   ],
   "source": [
    "%%bash\n",
    "less text/sample_text.txt | wc -l"
   ]
  },
  {
   "cell_type": "markdown",
   "metadata": {},
   "source": [
    "#### Search"
   ]
  },
  {
   "cell_type": "code",
   "execution_count": 3,
   "metadata": {},
   "outputs": [
    {
     "name": "stdout",
     "output_type": "stream",
     "text": [
      "first line\r\n"
     ]
    }
   ],
   "source": [
    "%%bash\n",
    "cat text/sample_text.txt | grep -i \"first\""
   ]
  },
  {
   "cell_type": "markdown",
   "metadata": {},
   "source": [
    "### Switch between hosts"
   ]
  },
  {
   "cell_type": "code",
   "execution_count": null,
   "metadata": {},
   "outputs": [],
   "source": [
    "%%bash\n",
    "ssh localhost"
   ]
  },
  {
   "cell_type": "markdown",
   "metadata": {},
   "source": [
    "### Check running process"
   ]
  },
  {
   "cell_type": "code",
   "execution_count": 50,
   "metadata": {},
   "outputs": [
    {
     "name": "stdout",
     "output_type": "stream",
     "text": [
      "pengtan      4     3  0 Jun16 tty1     00:00:00 /mnt/c/Program Files/ConEmu/ConEmu/wsl/wslbridge-backend --check-version=0.2.5-dev -31865 -01866 -11867 -k61E3991B684751A1D05B63D6997803FF4DAE4C48FBF912D82A29BD863C71210E -w8192 -t2048 --pty -c74 -r23 -eConEmuBuild=180528 -eConEmuPID=6068 -eTERM=xterm-256color -- bash -l -i\n",
      "pengtan      8     4  0 Jun16 pts/0    00:00:00 bash -l -i\n",
      "pengtan    213    47  0 00:22 ?        00:00:00 bash\n",
      "pengtan    215   213  0 00:22 ?        00:00:00 grep -i bash\n"
     ]
    }
   ],
   "source": [
    "%%bash\n",
    "ps -ef |grep -i bash"
   ]
  },
  {
   "cell_type": "markdown",
   "metadata": {},
   "source": [
    "### Kill the process"
   ]
  },
  {
   "cell_type": "markdown",
   "metadata": {},
   "source": [
    "%%bash\n",
    "kill -9 215"
   ]
  },
  {
   "cell_type": "markdown",
   "metadata": {},
   "source": [
    "### Check memory"
   ]
  },
  {
   "cell_type": "code",
   "execution_count": 60,
   "metadata": {},
   "outputs": [
    {
     "name": "stdout",
     "output_type": "stream",
     "text": [
      "              total        used        free      shared  buff/cache   available\n",
      "Mem:             15           5           9           0           0           9\n",
      "Swap:            48           0          48\n"
     ]
    }
   ],
   "source": [
    "%%bash\n",
    "free -g"
   ]
  },
  {
   "cell_type": "markdown",
   "metadata": {},
   "source": [
    "## Other tools may need to study specifically"
   ]
  },
  {
   "cell_type": "markdown",
   "metadata": {},
   "source": [
    "- [crontab](https://www.tutorialspoint.com/unix_commands/crontab.htm) --> Schedule a job to run periodically\n",
    "- [awk](https://www.tutorialspoint.com/unix_commands/awk.htm) --> text edit/ format\n",
    "- [vi](https://www.tutorialspoint.com/unix/unix-vi-editor.htm) --> text edit (learn how to quit vi first, :q!)\n",
    "- [scp](https://www.tutorialspoint.com//unix_commands/scp.htm) --> transfer files between servers"
   ]
  },
  {
   "cell_type": "markdown",
   "metadata": {},
   "source": [
    "## Advanced Topic\n",
    "bash script @TODO"
   ]
  },
  {
   "cell_type": "markdown",
   "metadata": {},
   "source": [
    "# Tutorial"
   ]
  },
  {
   "cell_type": "markdown",
   "metadata": {},
   "source": [
    " Login into required server ds01 by MobaXterm or Putty/MPutty. Download them if necessary.\n",
    "1. __Create__ a folder called __*my_folder*__ in /home/${your_own_username}\n",
    "2. check what subfolders and files are available in your home directory\n",
    "3. create a text file called __*my_text.txt*__ and write your name inside.\n",
    "4. check what subfolders and files are available in your home directory again\n",
    "5. __copy__ this file to __*my_text_copied.txt*__\n",
    "5. __rename__ this file to __*my_text_renamed.txt*__\n",
    "6. check the file context and make sure it is same.\n",
    "7. remove the write permission for __*my_text_renamed.txt*__ for others (means only yourself can edit it)\n",
    "8. login as generic account \n",
    "9. check the currect working directory\n",
    "10. go to the folder /home/${your_own_username}\n",
    "11. try to edit your __*my_text_renamed.txt*__ file with vi and save \n",
    "12. quit and login as your own account. \n",
    "13. delete file __*my_text_renamed.txt*__\n",
    "14. delete the directory __*my_folder*__\n",
    "15. logout from the server (ctrl + d, good practise to logout everytime you finish )\n",
    "\n"
   ]
  }
 ],
 "metadata": {
  "kernelspec": {
   "display_name": "Python 3",
   "language": "python",
   "name": "python3"
  },
  "language_info": {
   "codemirror_mode": {
    "name": "ipython",
    "version": 3
   },
   "file_extension": ".py",
   "mimetype": "text/x-python",
   "name": "python",
   "nbconvert_exporter": "python",
   "pygments_lexer": "ipython3",
   "version": "3.6.5"
  }
 },
 "nbformat": 4,
 "nbformat_minor": 2
}
