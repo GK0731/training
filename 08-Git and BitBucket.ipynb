{
 "cells": [
  {
   "cell_type": "markdown",
   "metadata": {},
   "source": [
    "cheat sheet: https://services.github.com/on-demand/downloads/github-git-cheat-sheet.pdf"
   ]
  },
  {
   "cell_type": "markdown",
   "metadata": {},
   "source": [
    "Github help https://help.github.com/"
   ]
  },
  {
   "cell_type": "markdown",
   "metadata": {},
   "source": [
    "GUI: GitKaren https://www.gitkraken.com/"
   ]
  },
  {
   "cell_type": "markdown",
   "metadata": {},
   "source": [
    "## Git"
   ]
  },
  {
   "cell_type": "markdown",
   "metadata": {},
   "source": [
    "#### Setup Proxy"
   ]
  },
  {
   "cell_type": "markdown",
   "metadata": {},
   "source": [
    "In Windows environment variable, setup below\n",
    "\n",
    "```\n",
    "HTTP_PROXY=http://proxy-web.micron.com:80\n",
    "HTTPS_PROXY=http://proxy-web.micron.com:80 \n",
    "NO_PROXY=localhost,127.0.0.1,*.micron.com\n",
    "\n",
    "```"
   ]
  },
  {
   "cell_type": "markdown",
   "metadata": {},
   "source": [
    "#### First Time Config"
   ]
  },
  {
   "cell_type": "markdown",
   "metadata": {},
   "source": [
    "```bash\n",
    "git config --global user.name \"pt\"\n",
    "git config --global user.email \"pt@m.com\"\n",
    "```"
   ]
  },
  {
   "cell_type": "markdown",
   "metadata": {},
   "source": [
    "#### Common Git Command"
   ]
  },
  {
   "cell_type": "markdown",
   "metadata": {},
   "source": [
    "git init: create a new repo\n",
    "[___link___](https://git-scm.com/docs/git-init)"
   ]
  },
  {
   "cell_type": "markdown",
   "metadata": {},
   "source": [
    "```\n",
    "git init\n",
    "```"
   ]
  },
  {
   "cell_type": "markdown",
   "metadata": {},
   "source": [
    "> a new folder called __.git__ is created in the repo folder. This folder is very important and all git related history is stored here. "
   ]
  },
  {
   "cell_type": "markdown",
   "metadata": {},
   "source": [
    "git clone: clone a new repo\n",
    "[___link___](https://git-scm.com/docs/git-clone)"
   ]
  },
  {
   "cell_type": "markdown",
   "metadata": {},
   "source": [
    "```\n",
    "git clone https://github.com/NUSTemple/training.git \n",
    "```"
   ]
  },
  {
   "cell_type": "markdown",
   "metadata": {},
   "source": [
    "git remote add: add a remote repo\n",
    "[___link___](https://git-scm.com/docs/git-remote)"
   ]
  },
  {
   "cell_type": "markdown",
   "metadata": {},
   "source": [
    "```\n",
    "git remote add <remote name> <repo url>\n",
    "\n",
    "git remote add origin https://github.com/NUSTemple/training.git\n",
    "```"
   ]
  },
  {
   "cell_type": "markdown",
   "metadata": {},
   "source": [
    "git add: add files into git\n",
    "[___link___](https://git-scm.com/docs/git-add)"
   ]
  },
  {
   "cell_type": "markdown",
   "metadata": {},
   "source": [
    "```\n",
    "git add --all\n",
    "```"
   ]
  },
  {
   "cell_type": "markdown",
   "metadata": {},
   "source": [
    "git commit: commit the code change \n",
    "[___link___](https://git-scm.com/docs/git-commit)"
   ]
  },
  {
   "cell_type": "markdown",
   "metadata": {},
   "source": [
    "```\n",
    "git commit -m \"[BUG FIX] fix a bug about date format\"\n",
    "```"
   ]
  },
  {
   "cell_type": "markdown",
   "metadata": {},
   "source": [
    "git push: push the committed change to remote\n",
    "[___link___](https://git-scm.com/docs/git-push)"
   ]
  },
  {
   "cell_type": "markdown",
   "metadata": {},
   "source": [
    "```\n",
    "git push <REMOTENAME> <BRANCHNAME> \n",
    "\n",
    "git push origin master\n",
    "```"
   ]
  },
  {
   "cell_type": "markdown",
   "metadata": {},
   "source": [
    "git pull: pull the change from remote\n",
    "[___link___](https://git-scm.com/docs/git-pull)"
   ]
  },
  {
   "cell_type": "markdown",
   "metadata": {},
   "source": [
    "```\n",
    "git pull\n",
    "```"
   ]
  },
  {
   "cell_type": "markdown",
   "metadata": {},
   "source": [
    "git stash: put the local change aside \n",
    "[___link___](https://git-scm.com/docs/git-stash)"
   ]
  },
  {
   "cell_type": "markdown",
   "metadata": {},
   "source": [
    "```\n",
    "git stash\n",
    "\n",
    "# Get old state\n",
    "\n",
    "git stash pop\n",
    "```"
   ]
  },
  {
   "cell_type": "markdown",
   "metadata": {},
   "source": [
    "#### Gitignore File [___link___](https://git-scm.com/docs/gitignore)"
   ]
  },
  {
   "cell_type": "markdown",
   "metadata": {},
   "source": [
    "```\n",
    ".gitignore\n",
    "\n",
    "\n",
    "\\.ipynb_checkpoints/\n",
    "```"
   ]
  },
  {
   "cell_type": "markdown",
   "metadata": {},
   "source": [
    "## BitBucket"
   ]
  },
  {
   "cell_type": "markdown",
   "metadata": {},
   "source": [
    "### Create an Repo in BitBucket\n",
    "\n",
    "### Clone code from BitBucket\n",
    "\n",
    "### Push code to BitBucket\n",
    "\n",
    "### Check Commit Difference and Code Difference in the BitBucket"
   ]
  },
  {
   "cell_type": "markdown",
   "metadata": {},
   "source": [
    "## Use Cases"
   ]
  },
  {
   "cell_type": "markdown",
   "metadata": {},
   "source": [
    "#### Add code into repo"
   ]
  },
  {
   "cell_type": "markdown",
   "metadata": {},
   "source": [
    "- create a repo in stash\n",
    "\n",
    "```\n",
    "git init\n",
    "git add --all\n",
    "git commit -m \"{your commit message}\"\n",
    "git remote add origin {your git url}\n",
    "git push origin master\n",
    "```"
   ]
  },
  {
   "cell_type": "markdown",
   "metadata": {},
   "source": [
    "#### check status and commit message\n",
    "\n",
    "```\n",
    "git log\n",
    "\n",
    "git reflog\n",
    "\n",
    "git status\n",
    "\n",
    "```"
   ]
  },
  {
   "cell_type": "markdown",
   "metadata": {},
   "source": [
    "#### Give up local change"
   ]
  },
  {
   "cell_type": "markdown",
   "metadata": {},
   "source": [
    "```\n",
    "git stash\n",
    "\n",
    "```"
   ]
  },
  {
   "cell_type": "markdown",
   "metadata": {},
   "source": [
    "#### Revert back to previous version [___link___](https://stackoverflow.com/questions/4114095/how-to-revert-a-git-repository-to-a-previous-commit)"
   ]
  },
  {
   "cell_type": "markdown",
   "metadata": {},
   "source": [
    "```\n",
    "git log\n",
    "```"
   ]
  },
  {
   "cell_type": "markdown",
   "metadata": {},
   "source": [
    "- undo commit\n",
    "\n",
    "```\n",
    "git revert {commit id}\n",
    "```"
   ]
  },
  {
   "cell_type": "markdown",
   "metadata": {},
   "source": [
    "- go back with a new commit\n",
    "\n",
    "```\n",
    "git reset {commit id}\n",
    "```"
   ]
  },
  {
   "cell_type": "markdown",
   "metadata": {},
   "source": [
    "#### Create new branch and merge the change [___link___](https://confluence.atlassian.com/bitbucket/use-a-git-branch-to-merge-a-file-681902555.html)"
   ]
  },
  {
   "cell_type": "markdown",
   "metadata": {},
   "source": [
    "```\n",
    "git checkout -b <name_of_your_new_branch>\n",
    "\n",
    "git checkout <name_of_your_new_branch>\n",
    "\n",
    "git push origin <name_of_your_new_branch>\n",
    "```"
   ]
  },
  {
   "cell_type": "markdown",
   "metadata": {},
   "source": [
    "#### First switch to branch \n",
    "\n",
    "```\n",
    "git checkout master \n",
    "git merge <name_of_your_new_branch>\n",
    "```"
   ]
  },
  {
   "cell_type": "markdown",
   "metadata": {},
   "source": [
    "## BKM "
   ]
  },
  {
   "cell_type": "markdown",
   "metadata": {},
   "source": [
    "- Create a new branch for bug fix/ new feature\n",
    "- Add a ___README.md___ to describe your repo\n",
    "- only add necessary files \n",
    " - do not add large files like sample data, log files\n",
    "- do the code pull/push in time\n",
    " - regular git pull to make sure you get other's code change in time and solve the merge conflict\n",
    " - regular git push to make sure your code is secure and others can get your code in time\n",
    "- give meaningful commit message (mainly use for same branch reset)\n",
    " - bug fix\n",
    " - new feature\n",
    " - JIRA Number\n",
    "- Do not do the code development in production environment (at least master and develop branch)"
   ]
  }
 ],
 "metadata": {
  "kernelspec": {
   "display_name": "Python 3",
   "language": "python",
   "name": "python3"
  },
  "language_info": {
   "codemirror_mode": {
    "name": "ipython",
    "version": 3
   },
   "file_extension": ".py",
   "mimetype": "text/x-python",
   "name": "python",
   "nbconvert_exporter": "python",
   "pygments_lexer": "ipython3",
   "version": "3.6.6"
  }
 },
 "nbformat": 4,
 "nbformat_minor": 2
}
