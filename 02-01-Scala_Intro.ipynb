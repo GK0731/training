{
 "cells": [
  {
   "cell_type": "markdown",
   "metadata": {},
   "source": [
    "### Define a literal, value, variable and type\n",
    "- literal: data that appears directly in the source code\n",
    "- value: an immutable, typed storage unit\n",
    "- variable: a mutable, typed storage unit\n",
    "- type: the kind of data working with"
   ]
  },
  {
   "cell_type": "markdown",
   "metadata": {},
   "source": [
    "### Syntax Defining a Value"
   ]
  },
  {
   "cell_type": "code",
   "execution_count": 2,
   "metadata": {},
   "outputs": [
    {
     "data": {
      "text/plain": [
       "\u001b[36mx\u001b[39m: \u001b[32mInt\u001b[39m = \u001b[32m20\u001b[39m"
      ]
     },
     "execution_count": 2,
     "metadata": {},
     "output_type": "execute_result"
    }
   ],
   "source": [
    "val x:Int = 20"
   ]
  },
  {
   "cell_type": "code",
   "execution_count": 4,
   "metadata": {},
   "outputs": [
    {
     "data": {
      "text/plain": [
       "\u001b[36mx\u001b[39m: \u001b[32mInt\u001b[39m = \u001b[32m20\u001b[39m"
      ]
     },
     "execution_count": 4,
     "metadata": {},
     "output_type": "execute_result"
    }
   ],
   "source": [
    "val x = 20"
   ]
  },
  {
   "cell_type": "markdown",
   "metadata": {},
   "source": [
    "### Syntax Defining a Variable"
   ]
  },
  {
   "cell_type": "code",
   "execution_count": 3,
   "metadata": {},
   "outputs": [
    {
     "data": {
      "text/plain": [
       "\u001b[36mx\u001b[39m: \u001b[32mInt\u001b[39m = \u001b[32m80\u001b[39m"
      ]
     },
     "execution_count": 3,
     "metadata": {},
     "output_type": "execute_result"
    }
   ],
   "source": [
    "var x:Int = 20\n",
    "x = x * 4"
   ]
  },
  {
   "cell_type": "markdown",
   "metadata": {},
   "source": [
    "### Syntax Defining a Type"
   ]
  },
  {
   "cell_type": "markdown",
   "metadata": {},
   "source": [
    "### Numeric Data Type\n",
    "- Byte\n",
    "- Short\n",
    "- Int\n",
    "- Long\n",
    "- Float\n",
    "- Double\n",
    "\n",
    "### Strings\n",
    "\n",
    "Type operations\n",
    "- asInstanceOf\n",
    "- getClass\n",
    "- isInstanceOf\n",
    "- hasCode\n",
    "- to\n",
    "- toString"
   ]
  },
  {
   "cell_type": "markdown",
   "metadata": {},
   "source": [
    "### Tuple\n",
    "tuple is 1-based index"
   ]
  },
  {
   "cell_type": "code",
   "execution_count": 5,
   "metadata": {},
   "outputs": [
    {
     "data": {
      "text/plain": [
       "\u001b[36minfo\u001b[39m: (\u001b[32mInt\u001b[39m, \u001b[32mString\u001b[39m, \u001b[32mBoolean\u001b[39m) = (\u001b[32m5\u001b[39m, \u001b[32m\"Korben\"\u001b[39m, \u001b[32mtrue\u001b[39m)"
      ]
     },
     "execution_count": 5,
     "metadata": {},
     "output_type": "execute_result"
    }
   ],
   "source": [
    "val info = (5, \"Korben\", true)"
   ]
  },
  {
   "cell_type": "code",
   "execution_count": 7,
   "metadata": {},
   "outputs": [
    {
     "data": {
      "text/plain": [
       "\u001b[36mres6\u001b[39m: \u001b[32mString\u001b[39m = \u001b[32m\"Korben\"\u001b[39m"
      ]
     },
     "execution_count": 7,
     "metadata": {},
     "output_type": "execute_result"
    }
   ],
   "source": [
    "info._2"
   ]
  },
  {
   "cell_type": "markdown",
   "metadata": {},
   "source": [
    "### Expressions and Conditionals"
   ]
  },
  {
   "cell_type": "markdown",
   "metadata": {},
   "source": [
    "```scala\n",
    "val <identifier>[: <type>] = <expression>\n",
    "```    \n",
    "The last expression in the block determines the block’s return value."
   ]
  },
  {
   "cell_type": "code",
   "execution_count": 8,
   "metadata": {},
   "outputs": [
    {
     "data": {
      "text/plain": [
       "\u001b[36mx\u001b[39m: \u001b[32mInt\u001b[39m = \u001b[32m100\u001b[39m\r\n",
       "\u001b[36mamount\u001b[39m: \u001b[32mInt\u001b[39m = \u001b[32m110\u001b[39m"
      ]
     },
     "execution_count": 8,
     "metadata": {},
     "output_type": "execute_result"
    }
   ],
   "source": [
    "val x = 5 * 20; val amount = x + 10"
   ]
  },
  {
   "cell_type": "code",
   "execution_count": 9,
   "metadata": {},
   "outputs": [
    {
     "data": {
      "text/plain": [
       "\u001b[36mamount\u001b[39m: \u001b[32mInt\u001b[39m = \u001b[32m110\u001b[39m"
      ]
     },
     "execution_count": 9,
     "metadata": {},
     "output_type": "execute_result"
    }
   ],
   "source": [
    "val amount = { val x = 5 * 20; x + 10 }"
   ]
  },
  {
   "cell_type": "markdown",
   "metadata": {},
   "source": [
    "### IF - ELSE EXPRESSIONS "
   ]
  },
  {
   "cell_type": "markdown",
   "metadata": {},
   "source": [
    "if (<Boolean expression>) <expression> \n",
    "else <expression>"
   ]
  },
  {
   "cell_type": "code",
   "execution_count": 10,
   "metadata": {},
   "outputs": [
    {
     "data": {
      "text/plain": [
       "\u001b[36mx\u001b[39m: \u001b[32mInt\u001b[39m = \u001b[32m10\u001b[39m\r\n",
       "\u001b[36my\u001b[39m: \u001b[32mInt\u001b[39m = \u001b[32m20\u001b[39m\r\n",
       "\u001b[36mmax\u001b[39m: \u001b[32mInt\u001b[39m = \u001b[32m20\u001b[39m"
      ]
     },
     "execution_count": 10,
     "metadata": {},
     "output_type": "execute_result"
    }
   ],
   "source": [
    "val x = 10; val y = 20\n",
    "val max = if (x > y) x else y"
   ]
  },
  {
   "cell_type": "markdown",
   "metadata": {},
   "source": [
    "### LOOPS"
   ]
  },
  {
   "cell_type": "markdown",
   "metadata": {},
   "source": [
    "```scala\n",
    "for (<identifier> <- <iterator>) [yield] [<expression>]\n",
    "```"
   ]
  },
  {
   "cell_type": "code",
   "execution_count": 11,
   "metadata": {},
   "outputs": [
    {
     "name": "stdout",
     "output_type": "stream",
     "text": [
      "Day 1:\n",
      "Day 2:\n",
      "Day 3:\n",
      "Day 4:\n",
      "Day 5:\n",
      "Day 6:\n",
      "Day 7:\n"
     ]
    }
   ],
   "source": [
    "for (x <- 1 to 7) { println(s\"Day $x:\") }"
   ]
  },
  {
   "cell_type": "markdown",
   "metadata": {},
   "source": [
    "### WHILE"
   ]
  },
  {
   "cell_type": "markdown",
   "metadata": {},
   "source": [
    "```scala \n",
    "while (<Boolean expression>) statement\n",
    "```"
   ]
  },
  {
   "cell_type": "code",
   "execution_count": 12,
   "metadata": {},
   "outputs": [
    {
     "data": {
      "text/plain": [
       "\u001b[36mx\u001b[39m: \u001b[32mInt\u001b[39m = \u001b[32m0\u001b[39m"
      ]
     },
     "execution_count": 12,
     "metadata": {},
     "output_type": "execute_result"
    }
   ],
   "source": [
    "var x = 10; while (x > 0) x -= 1"
   ]
  },
  {
   "cell_type": "markdown",
   "metadata": {},
   "source": [
    "### FUNCTION"
   ]
  },
  {
   "cell_type": "markdown",
   "metadata": {},
   "source": [
    "```scala\n",
    "def <identifier>: <type> = <expression>\n",
    "```"
   ]
  },
  {
   "cell_type": "markdown",
   "metadata": {},
   "source": [
    "```scala\n",
    "def <identifier>(<identifier>: <type>[, ... ]): <type> = <expression>\n",
    "```"
   ]
  },
  {
   "cell_type": "code",
   "execution_count": 13,
   "metadata": {},
   "outputs": [
    {
     "data": {
      "text/plain": [
       "defined \u001b[32mfunction\u001b[39m \u001b[36mgreet\u001b[39m\r\n",
       "\u001b[36mgreeting1\u001b[39m: \u001b[32mString\u001b[39m = \u001b[32m\"Paul\"\u001b[39m"
      ]
     },
     "execution_count": 13,
     "metadata": {},
     "output_type": "execute_result"
    }
   ],
   "source": [
    "def greet(prefix: String = \"\", name: String) = s\"$prefix$name\"\n",
    "val greeting1 = greet(name = \"Paul\")"
   ]
  },
  {
   "cell_type": "markdown",
   "metadata": {},
   "source": [
    "### FUNCTION TYPE"
   ]
  },
  {
   "cell_type": "markdown",
   "metadata": {},
   "source": [
    "```scala\n",
    "([<type>, ...]) => <type>\n",
    "```"
   ]
  },
  {
   "cell_type": "code",
   "execution_count": 14,
   "metadata": {},
   "outputs": [
    {
     "data": {
      "text/plain": [
       "defined \u001b[32mfunction\u001b[39m \u001b[36mdouble\u001b[39m"
      ]
     },
     "execution_count": 14,
     "metadata": {},
     "output_type": "execute_result"
    }
   ],
   "source": [
    "def double(x: Int): Int = x * 2"
   ]
  },
  {
   "cell_type": "code",
   "execution_count": 15,
   "metadata": {},
   "outputs": [
    {
     "data": {
      "text/plain": [
       "\u001b[36mmyDouble\u001b[39m: \u001b[32mInt\u001b[39m => \u001b[32mInt\u001b[39m = <function1>"
      ]
     },
     "execution_count": 15,
     "metadata": {},
     "output_type": "execute_result"
    }
   ],
   "source": [
    "val myDouble: (Int) => Int = double"
   ]
  },
  {
   "cell_type": "markdown",
   "metadata": {},
   "source": [
    "```scala\n",
    "val <identifier> = <function name> _\n",
    "```"
   ]
  },
  {
   "cell_type": "code",
   "execution_count": 16,
   "metadata": {},
   "outputs": [
    {
     "data": {
      "text/plain": [
       "\u001b[36mmyDouble\u001b[39m: \u001b[32mInt\u001b[39m => \u001b[32mInt\u001b[39m = <function1>"
      ]
     },
     "execution_count": 16,
     "metadata": {},
     "output_type": "execute_result"
    }
   ],
   "source": [
    "val myDouble = double _\n"
   ]
  },
  {
   "cell_type": "markdown",
   "metadata": {},
   "source": [
    "### LAMBDA FUNCTION/FUNCTION LITERALS"
   ]
  },
  {
   "cell_type": "code",
   "execution_count": 17,
   "metadata": {},
   "outputs": [
    {
     "data": {
      "text/plain": [
       "\u001b[36mdoubler\u001b[39m: \u001b[32mInt\u001b[39m => \u001b[32mInt\u001b[39m = <function1>\r\n",
       "\u001b[36mdoubled\u001b[39m: \u001b[32mInt\u001b[39m = \u001b[32m44\u001b[39m"
      ]
     },
     "execution_count": 17,
     "metadata": {},
     "output_type": "execute_result"
    }
   ],
   "source": [
    "val doubler = (x: Int) => x * 2\n",
    "val doubled = doubler(22)"
   ]
  },
  {
   "cell_type": "markdown",
   "metadata": {},
   "source": [
    "### Lists, Sets, and Maps"
   ]
  },
  {
   "cell_type": "code",
   "execution_count": 19,
   "metadata": {},
   "outputs": [
    {
     "data": {
      "text/plain": [
       "\u001b[36mcolors\u001b[39m: \u001b[32mList\u001b[39m[\u001b[32mString\u001b[39m] = \u001b[33mList\u001b[39m(\u001b[32m\"red\"\u001b[39m, \u001b[32m\"green\"\u001b[39m, \u001b[32m\"blue\"\u001b[39m)\r\n",
       "\u001b[36mres18_1\u001b[39m: \u001b[32mString\u001b[39m = \u001b[32m\"red\"\u001b[39m\r\n",
       "\u001b[36mres18_2\u001b[39m: \u001b[32mList\u001b[39m[\u001b[32mString\u001b[39m] = \u001b[33mList\u001b[39m(\u001b[32m\"green\"\u001b[39m, \u001b[32m\"blue\"\u001b[39m)\r\n",
       "\u001b[36mres18_3\u001b[39m: \u001b[32mString\u001b[39m = \u001b[32m\"green\"\u001b[39m"
      ]
     },
     "execution_count": 19,
     "metadata": {},
     "output_type": "execute_result"
    }
   ],
   "source": [
    "val colors = List(\"red\", \"green\", \"blue\")\n",
    "colors.head\n",
    "colors.tail\n",
    "colors(1)"
   ]
  },
  {
   "cell_type": "code",
   "execution_count": 21,
   "metadata": {},
   "outputs": [
    {
     "data": {
      "text/plain": [
       "\u001b[36mnumbers\u001b[39m: \u001b[32mList\u001b[39m[\u001b[32mInt\u001b[39m] = \u001b[33mList\u001b[39m(\u001b[32m1\u001b[39m, \u001b[32m2\u001b[39m, \u001b[32m3\u001b[39m)"
      ]
     },
     "execution_count": 21,
     "metadata": {},
     "output_type": "execute_result"
    }
   ],
   "source": [
    "val numbers = 1 :: 2 :: 3 :: Nil"
   ]
  },
  {
   "cell_type": "markdown",
   "metadata": {},
   "source": [
    "### foreach vs. map vs. reduce\n",
    "\n",
    "#### foreach() takes a function (a procedure, to be accurate) and invokes it with every item in the list.\n",
    "\n",
    "#### map() takes a function that converts a single list element to another value and/or type.\n",
    "\n",
    "#### reduce() takes a function that combines two list elements into a single element."
   ]
  },
  {
   "cell_type": "code",
   "execution_count": 20,
   "metadata": {},
   "outputs": [
    {
     "data": {
      "text/plain": [
       "\u001b[36mcolorMap\u001b[39m: \u001b[32mMap\u001b[39m[\u001b[32mString\u001b[39m, \u001b[32mInt\u001b[39m] = \u001b[33mMap\u001b[39m(\u001b[32m\"red\"\u001b[39m -> \u001b[32m16711680\u001b[39m, \u001b[32m\"green\"\u001b[39m -> \u001b[32m65280\u001b[39m, \u001b[32m\"blue\"\u001b[39m -> \u001b[32m255\u001b[39m)"
      ]
     },
     "execution_count": 20,
     "metadata": {},
     "output_type": "execute_result"
    }
   ],
   "source": [
    "val colorMap = Map(\"red\" -> 0xFF0000, \"green\" -> 0xFF00,  \"blue\" -> 0xFF)"
   ]
  },
  {
   "cell_type": "code",
   "execution_count": 22,
   "metadata": {},
   "outputs": [
    {
     "name": "stdout",
     "output_type": "stream",
     "text": [
      "ArrayBuffer(1, 2, 3, 4, 5, 6, 7, 8, 9, 10)\n"
     ]
    },
    {
     "data": {
      "text/plain": [
       "\u001b[36mnums\u001b[39m: \u001b[32mcollection\u001b[39m.\u001b[32mmutable\u001b[39m.\u001b[32mBuffer\u001b[39m[\u001b[32mInt\u001b[39m] = \u001b[33mArrayBuffer\u001b[39m(\u001b[32m1\u001b[39m, \u001b[32m2\u001b[39m, \u001b[32m3\u001b[39m, \u001b[32m4\u001b[39m, \u001b[32m5\u001b[39m, \u001b[32m6\u001b[39m, \u001b[32m7\u001b[39m, \u001b[32m8\u001b[39m, \u001b[32m9\u001b[39m, \u001b[32m10\u001b[39m)\r\n",
       "\u001b[36ml\u001b[39m: \u001b[32mList\u001b[39m[\u001b[32mInt\u001b[39m] = \u001b[33mList\u001b[39m(\u001b[32m1\u001b[39m, \u001b[32m2\u001b[39m, \u001b[32m3\u001b[39m, \u001b[32m4\u001b[39m, \u001b[32m5\u001b[39m, \u001b[32m6\u001b[39m, \u001b[32m7\u001b[39m, \u001b[32m8\u001b[39m, \u001b[32m9\u001b[39m, \u001b[32m10\u001b[39m)"
      ]
     },
     "execution_count": 22,
     "metadata": {},
     "output_type": "execute_result"
    }
   ],
   "source": [
    "val nums = collection.mutable.Buffer[Int]()\n",
    "for (i <- 1 to 10) nums += i\n",
    "println(nums)\n",
    "val l = nums.toList"
   ]
  },
  {
   "cell_type": "markdown",
   "metadata": {},
   "source": [
    "### Array"
   ]
  },
  {
   "cell_type": "markdown",
   "metadata": {},
   "source": [
    "An Array is a fixed-size, mutable, indexed collection. It’s not officially a collection, because it isn’t in the “scala.collections” package and doesn’t extend from the root Iterable type (although it has all of the Iterable operations like map and filter). The Array type is actually just a wrapper around Java’s array type with an advanced feature called an implicit class allowing it to be used like a sequence. Scala provides the Array type for compatibility with JVM libraries and Java code and as a backing store for indexed collections, which really require an array to be useful."
   ]
  },
  {
   "cell_type": "markdown",
   "metadata": {},
   "source": [
    "It’s important to hear about and understand the Array type, but I don’t recommend using it in regular practice unless you need it for JVM code. "
   ]
  },
  {
   "cell_type": "code",
   "execution_count": 23,
   "metadata": {},
   "outputs": [
    {
     "data": {
      "text/plain": [
       "\u001b[36mcolors\u001b[39m: \u001b[32mArray\u001b[39m[\u001b[32mString\u001b[39m] = \u001b[33mArray\u001b[39m(\u001b[32m\"red\"\u001b[39m, \u001b[32m\"green\"\u001b[39m, \u001b[32m\"blue\"\u001b[39m)"
      ]
     },
     "execution_count": 23,
     "metadata": {},
     "output_type": "execute_result"
    }
   ],
   "source": [
    "val colors = Array(\"red\", \"green\", \"blue\")"
   ]
  },
  {
   "cell_type": "code",
   "execution_count": 24,
   "metadata": {},
   "outputs": [],
   "source": [
    "colors(0) = \"purple\""
   ]
  },
  {
   "cell_type": "code",
   "execution_count": 25,
   "metadata": {},
   "outputs": [
    {
     "data": {
      "text/plain": [
       "\u001b[36mres24\u001b[39m: \u001b[32mArray\u001b[39m[\u001b[32mString\u001b[39m] = \u001b[33mArray\u001b[39m(\u001b[32m\"purple\"\u001b[39m, \u001b[32m\"green\"\u001b[39m, \u001b[32m\"blue\"\u001b[39m)"
      ]
     },
     "execution_count": 25,
     "metadata": {},
     "output_type": "execute_result"
    }
   ],
   "source": [
    "colors "
   ]
  },
  {
   "cell_type": "markdown",
   "metadata": {},
   "source": [
    "### Classes"
   ]
  },
  {
   "cell_type": "code",
   "execution_count": 26,
   "metadata": {},
   "outputs": [
    {
     "data": {
      "text/plain": [
       "defined \u001b[32mclass\u001b[39m \u001b[36mA\u001b[39m"
      ]
     },
     "execution_count": 26,
     "metadata": {},
     "output_type": "execute_result"
    }
   ],
   "source": [
    "class A {def hi = \"Hello from A\"\n",
    "         override def toString = getClass.getName\n",
    "        }"
   ]
  },
  {
   "cell_type": "code",
   "execution_count": 27,
   "metadata": {},
   "outputs": [
    {
     "data": {
      "text/plain": [
       "\u001b[36ma\u001b[39m: \u001b[32mA\u001b[39m = $sess.cmd25Wrapper$Helper$A"
      ]
     },
     "execution_count": 27,
     "metadata": {},
     "output_type": "execute_result"
    }
   ],
   "source": [
    "val a = new A"
   ]
  },
  {
   "cell_type": "code",
   "execution_count": 28,
   "metadata": {},
   "outputs": [
    {
     "data": {
      "text/plain": [
       "\u001b[36mres27\u001b[39m: \u001b[32mString\u001b[39m = \u001b[32m\"Hello from A\"\u001b[39m"
      ]
     },
     "execution_count": 28,
     "metadata": {},
     "output_type": "execute_result"
    }
   ],
   "source": [
    "a.hi"
   ]
  },
  {
   "cell_type": "code",
   "execution_count": null,
   "metadata": {},
   "outputs": [],
   "source": [
    "abstract class Car {\n",
    "    val year: Int\n",
    "    val automatic: Boolean = true\n",
    "    def color:  String\n",
    "}"
   ]
  },
  {
   "cell_type": "code",
   "execution_count": null,
   "metadata": {},
   "outputs": [],
   "source": [
    "class RedMini(val year: Int) extends Car {\n",
    "    def color = \"Red\"\n",
    "}"
   ]
  },
  {
   "cell_type": "markdown",
   "metadata": {},
   "source": [
    "### Objects"
   ]
  },
  {
   "cell_type": "markdown",
   "metadata": {},
   "source": [
    "An object is a type of class that can have no more than one instance, known in object-oriented design as a singleton. "
   ]
  },
  {
   "cell_type": "code",
   "execution_count": 29,
   "metadata": {},
   "outputs": [
    {
     "data": {
      "text/plain": [
       "defined \u001b[32mobject\u001b[39m \u001b[36mHtmlUtils\u001b[39m\r\n",
       "\u001b[36mhtml\u001b[39m: \u001b[32mString\u001b[39m = \u001b[32m\"<html><body><h1>Introduction</h1></body></html>\"\u001b[39m\r\n",
       "\u001b[36mtext\u001b[39m: \u001b[32mString\u001b[39m = \u001b[32m\"Introduction\"\u001b[39m"
      ]
     },
     "execution_count": 29,
     "metadata": {},
     "output_type": "execute_result"
    }
   ],
   "source": [
    "object HtmlUtils {\n",
    "                  def removeMarkup(input: String) = {\n",
    "                      input.replaceAll(\"\"\"</?\\w[^>]*>\"\"\",\"\")\n",
    "                      .replaceAll(\"<.*>\",\"\")}\n",
    "}\n",
    "\n",
    "val html = \"<html><body><h1>Introduction</h1></body></html>\"\n",
    "val text = HtmlUtils.removeMarkup(html)"
   ]
  },
  {
   "cell_type": "markdown",
   "metadata": {},
   "source": [
    "### Case Classes"
   ]
  },
  {
   "cell_type": "markdown",
   "metadata": {},
   "source": [
    "A case class is an instantiable class that includes several automatically generated methods. It also includes an automatically generated companion object with its own automatically generated methods."
   ]
  },
  {
   "cell_type": "code",
   "execution_count": 30,
   "metadata": {},
   "outputs": [
    {
     "data": {
      "text/plain": [
       "defined \u001b[32mclass\u001b[39m \u001b[36mCharacter\u001b[39m\r\n",
       "\u001b[36mh\u001b[39m: \u001b[32mCharacter\u001b[39m = \u001b[33mCharacter\u001b[39m(\u001b[32m\"Hadrian\"\u001b[39m, \u001b[32mtrue\u001b[39m)\r\n",
       "\u001b[36mr\u001b[39m: \u001b[32mCharacter\u001b[39m = \u001b[33mCharacter\u001b[39m(\u001b[32m\"Royce\"\u001b[39m, \u001b[32mtrue\u001b[39m)"
      ]
     },
     "execution_count": 30,
     "metadata": {},
     "output_type": "execute_result"
    }
   ],
   "source": [
    "case class Character(name: String, isThief: Boolean)\n",
    "val h = Character(\"Hadrian\", true)\n",
    "val r = h.copy(name = \"Royce\")"
   ]
  },
  {
   "cell_type": "markdown",
   "metadata": {},
   "source": [
    "### Traits"
   ]
  },
  {
   "cell_type": "markdown",
   "metadata": {},
   "source": [
    "A trait is a kind of class that enables multiple inheritance. Classes, case classes, objects, and (yes) traits can all extend no more than one class but can extend multiple traits at the same time. "
   ]
  },
  {
   "cell_type": "code",
   "execution_count": 33,
   "metadata": {},
   "outputs": [
    {
     "data": {
      "text/plain": [
       "defined \u001b[32mtrait\u001b[39m \u001b[36mEqual\u001b[39m\r\n",
       "defined \u001b[32mclass\u001b[39m \u001b[36mPoint\u001b[39m\r\n",
       "defined \u001b[32mobject\u001b[39m \u001b[36mDemo\u001b[39m"
      ]
     },
     "execution_count": 33,
     "metadata": {},
     "output_type": "execute_result"
    }
   ],
   "source": [
    "trait Equal {\n",
    "   def isEqual(x: Any): Boolean\n",
    "   def isNotEqual(x: Any): Boolean = !isEqual(x)\n",
    "}\n",
    "\n",
    "class Point(xc: Int, yc: Int) extends Equal {\n",
    "   var x: Int = xc\n",
    "   var y: Int = yc\n",
    "   \n",
    "   def isEqual(obj: Any) = obj.isInstanceOf[Point] && obj.asInstanceOf[Point].x == y\n",
    "}\n",
    "\n",
    "object Demo {\n",
    "   def main(args: Array[String]) {\n",
    "      val p1 = new Point(2, 3)\n",
    "      val p2 = new Point(2, 4)\n",
    "      val p3 = new Point(3, 3)\n",
    "\n",
    "      println(p1.isNotEqual(p2))\n",
    "      println(p1.isNotEqual(p3))\n",
    "      println(p1.isNotEqual(2))\n",
    "   }\n",
    "}\n"
   ]
  }
 ],
 "metadata": {
  "kernelspec": {
   "display_name": "Python 3",
   "language": "python",
   "name": "python3"
  },
  "language_info": {
   "codemirror_mode": {
    "name": "ipython",
    "version": 3
   },
   "file_extension": ".py",
   "mimetype": "text/x-python",
   "name": "python",
   "nbconvert_exporter": "python",
   "pygments_lexer": "ipython3",
   "version": "3.6.6"
  }
 },
 "nbformat": 4,
 "nbformat_minor": 2
}
