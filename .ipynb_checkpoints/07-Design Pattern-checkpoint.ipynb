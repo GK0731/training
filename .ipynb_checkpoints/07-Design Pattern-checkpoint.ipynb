{
 "cells": [
  {
   "cell_type": "markdown",
   "metadata": {},
   "source": [
    "## How to do the data query\n",
    "\n",
    "- fixed time interval (eg. query last 1 day data)\n",
    "- Watermark (cut-off by time, eg. query from last ending time)\n",
    "- buffer folder (file based ingestion)\n",
    "- ingest into temp table and do left join (cut-off by time, eg. query from last ending time, then join with prod table)"
   ]
  }
 ],
 "metadata": {
  "kernelspec": {
   "display_name": "Python 3",
   "language": "python",
   "name": "python3"
  },
  "language_info": {
   "codemirror_mode": {
    "name": "ipython",
    "version": 3
   },
   "file_extension": ".py",
   "mimetype": "text/x-python",
   "name": "python",
   "nbconvert_exporter": "python",
   "pygments_lexer": "ipython3",
   "version": "3.6.4"
  }
 },
 "nbformat": 4,
 "nbformat_minor": 2
}
