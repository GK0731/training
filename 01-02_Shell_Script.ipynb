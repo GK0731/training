{
 "cells": [
  {
   "cell_type": "markdown",
   "metadata": {},
   "source": [
    "### shebang"
   ]
  },
  {
   "cell_type": "code",
   "execution_count": 3,
   "metadata": {},
   "outputs": [
    {
     "name": "stdout",
     "output_type": "stream",
     "text": [
      "16\n"
     ]
    }
   ],
   "source": [
    "%%bash\n",
    "\n",
    "#!/bin/bash\n",
    "\n",
    "ls|sort|wc -l"
   ]
  },
  {
   "cell_type": "markdown",
   "metadata": {},
   "source": [
    "### print"
   ]
  },
  {
   "cell_type": "code",
   "execution_count": 4,
   "metadata": {},
   "outputs": [
    {
     "name": "stdout",
     "output_type": "stream",
     "text": [
      "What is your name?\n"
     ]
    }
   ],
   "source": [
    "%%bash\n",
    "echo \"What is your name?\""
   ]
  },
  {
   "cell_type": "markdown",
   "metadata": {},
   "source": [
    "### Variable"
   ]
  },
  {
   "cell_type": "markdown",
   "metadata": {},
   "source": [
    "- no space"
   ]
  },
  {
   "cell_type": "code",
   "execution_count": 7,
   "metadata": {},
   "outputs": [
    {
     "name": "stdout",
     "output_type": "stream",
     "text": [
      "my_var\n",
      "100\n"
     ]
    }
   ],
   "source": [
    "%%bash\n",
    "my_var=100\n",
    "echo my_var\n",
    "echo ${my_var}"
   ]
  },
  {
   "cell_type": "markdown",
   "metadata": {},
   "source": [
    "### Special Variable"
   ]
  },
  {
   "cell_type": "code",
   "execution_count": 17,
   "metadata": {},
   "outputs": [
    {
     "name": "stdout",
     "output_type": "stream",
     "text": [
      "bash\n",
      "\n",
      "0\n",
      "\n",
      "arg  1\n",
      "arg  2\n",
      "arg  3\n",
      "0\n"
     ]
    }
   ],
   "source": [
    "%%bash\n",
    "\n",
    "# Script name\n",
    "echo $0\n",
    "# First input\n",
    "echo $1\n",
    "# number of inputs\n",
    "echo $#\n",
    "# All inputs\n",
    "echo $*\n",
    "set -- \"arg  1\" \"arg  2\" \"arg  3\"\n",
    "for word in \"$@\"; do echo \"$word\"; done\n",
    "# 0 --> no error, 1 --> error\n",
    "echo $?"
   ]
  },
  {
   "cell_type": "markdown",
   "metadata": {},
   "source": [
    "### Array"
   ]
  },
  {
   "cell_type": "code",
   "execution_count": 23,
   "metadata": {},
   "outputs": [
    {
     "name": "stdout",
     "output_type": "stream",
     "text": [
      "a\n",
      "a b c\n",
      "a b c\n"
     ]
    }
   ],
   "source": [
    "%%bash\n",
    "\n",
    "a=(\"a\" \"b\" \"c\")\n",
    "echo ${a[0]}\n",
    "echo ${a[*]}\n",
    "echo ${a[@]}"
   ]
  },
  {
   "cell_type": "markdown",
   "metadata": {},
   "source": [
    "###"
   ]
  },
  {
   "cell_type": "code",
   "execution_count": null,
   "metadata": {},
   "outputs": [],
   "source": [
    "https://www.tutorialspoint.com/unix/unix-basic-operators.htm"
   ]
  },
  {
   "cell_type": "markdown",
   "metadata": {},
   "source": [
    "if...fi statement\n",
    "if...else...fi statement\n",
    "if...elif...else...fi statement"
   ]
  },
  {
   "cell_type": "markdown",
   "metadata": {},
   "source": [
    "case word in\n",
    "   pattern1)\n",
    "      Statement(s) to be executed if pattern1 matches\n",
    "      ;;\n",
    "   pattern2)\n",
    "      Statement(s) to be executed if pattern2 matches\n",
    "      ;;\n",
    "   pattern3)\n",
    "      Statement(s) to be executed if pattern3 matches\n",
    "      ;;\n",
    "   *)\n",
    "     Default condition to be executed\n",
    "     ;;\n",
    "esac"
   ]
  },
  {
   "cell_type": "markdown",
   "metadata": {},
   "source": [
    "#### "
   ]
  },
  {
   "cell_type": "markdown",
   "metadata": {},
   "source": [
    "#### "
   ]
  },
  {
   "cell_type": "markdown",
   "metadata": {},
   "source": [
    "#### "
   ]
  },
  {
   "cell_type": "markdown",
   "metadata": {},
   "source": [
    "#### "
   ]
  }
 ],
 "metadata": {
  "kernelspec": {
   "display_name": "Python 3",
   "language": "python",
   "name": "python3"
  },
  "language_info": {
   "codemirror_mode": {
    "name": "ipython",
    "version": 3
   },
   "file_extension": ".py",
   "mimetype": "text/x-python",
   "name": "python",
   "nbconvert_exporter": "python",
   "pygments_lexer": "ipython3",
   "version": "3.6.4"
  }
 },
 "nbformat": 4,
 "nbformat_minor": 2
}
